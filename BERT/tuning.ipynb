{
  "nbformat": 4,
  "nbformat_minor": 0,
  "metadata": {
    "colab": {
      "provenance": []
    },
    "kernelspec": {
      "name": "python3",
      "display_name": "Python 3"
    },
    "language_info": {
      "name": "python"
    }
  },
  "cells": [
    {
      "cell_type": "markdown",
      "source": [
        "# Importing Packages"
      ],
      "metadata": {
        "id": "ntupAu2r8u8F"
      }
    },
    {
      "cell_type": "code",
      "source": [],
      "metadata": {
        "id": "l2-ph9vegNLt"
      },
      "execution_count": null,
      "outputs": []
    },
    {
      "cell_type": "markdown",
      "source": [
        "# Data Preparation"
      ],
      "metadata": {
        "id": "ClqUccpU87_d"
      }
    },
    {
      "cell_type": "code",
      "source": [],
      "metadata": {
        "id": "LOll8OUb9NVH"
      },
      "execution_count": null,
      "outputs": []
    },
    {
      "cell_type": "markdown",
      "source": [
        "# Load BERT & Tokenizer"
      ],
      "metadata": {
        "id": "jrV3qQUe9Nsp"
      }
    },
    {
      "cell_type": "code",
      "source": [],
      "metadata": {
        "id": "4PjzVrDa9TJP"
      },
      "execution_count": null,
      "outputs": []
    },
    {
      "cell_type": "markdown",
      "source": [
        "# Pretrained Model"
      ],
      "metadata": {
        "id": "s78CAFz59Wup"
      }
    },
    {
      "cell_type": "code",
      "source": [],
      "metadata": {
        "id": "KJF6ZehI9Z8l"
      },
      "execution_count": null,
      "outputs": []
    },
    {
      "cell_type": "markdown",
      "source": [
        "# Training Model"
      ],
      "metadata": {
        "id": "69mvxAbZ9aMe"
      }
    },
    {
      "cell_type": "code",
      "source": [],
      "metadata": {
        "id": "vqT3lUYK9l35"
      },
      "execution_count": null,
      "outputs": []
    },
    {
      "cell_type": "markdown",
      "source": [
        "# Prediction & Evaluation"
      ],
      "metadata": {
        "id": "1yXSwqJA9mCl"
      }
    },
    {
      "cell_type": "code",
      "source": [],
      "metadata": {
        "id": "zb1u5iQd9otK"
      },
      "execution_count": null,
      "outputs": []
    }
  ]
}